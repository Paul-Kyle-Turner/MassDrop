{
 "cells": [
  {
   "cell_type": "code",
   "execution_count": 1,
   "metadata": {},
   "outputs": [],
   "source": [
    "import os\n",
    "import numpy as np\n",
    "import pandas as pd"
   ]
  },
  {
   "cell_type": "code",
   "execution_count": 2,
   "metadata": {},
   "outputs": [],
   "source": [
    "from statistics import mean\n",
    "\n",
    "from sklearn.feature_extraction.text import TfidfTransformer, CountVectorizer, TfidfVectorizer\n",
    "from sklearn.model_selection import cross_val_score\n",
    "from sklearn.neighbors import KNeighborsClassifier\n",
    "from sklearn.naive_bayes import GaussianNB, MultinomialNB, BernoulliNB\n",
    "from sklearn.tree import DecisionTreeClassifier\n",
    "from sklearn.ensemble import RandomForestClassifier, AdaBoostClassifier, BaggingClassifier\n",
    "from sklearn.neural_network import MLPClassifier"
   ]
  },
  {
   "cell_type": "code",
   "execution_count": 6,
   "metadata": {},
   "outputs": [],
   "source": [
    "import pickle\n",
    "from sklearn.tree import plot_tree\n",
    "import matplotlib.pyplot as plt"
   ]
  },
  {
   "cell_type": "code",
   "execution_count": 2,
   "metadata": {},
   "outputs": [],
   "source": [
    "import mifs"
   ]
  },
  {
   "cell_type": "code",
   "execution_count": 4,
   "metadata": {},
   "outputs": [],
   "source": [
    "os.chdir('F:\\Data\\Malware\\MalwareAnalysisAndData\\Malware-API')"
   ]
  },
  {
   "cell_type": "code",
   "execution_count": 6,
   "metadata": {},
   "outputs": [],
   "source": [
    "with open('all_analysis_data.txt', 'r') as original_data:\n",
    "    api_calls = original_data.readlines()"
   ]
  },
  {
   "cell_type": "code",
   "execution_count": 7,
   "metadata": {},
   "outputs": [],
   "source": [
    "class_labels = []\n",
    "with open('labels.csv', 'r') as data_labels:\n",
    "    for line in data_labels.readlines():\n",
    "        class_labels.append(line.replace('\\n', ''))"
   ]
  },
  {
   "cell_type": "code",
   "execution_count": 5,
   "metadata": {},
   "outputs": [],
   "source": [
    "counts_vectorizer = CountVectorizer(ngram_range=(1,10), max_df=.97, min_df=.03)\n",
    "malware_counts_ngram = counts_vectorizer.fit_transform(api_calls).todense()"
   ]
  },
  {
   "cell_type": "code",
   "execution_count": 6,
   "metadata": {},
   "outputs": [],
   "source": [
    "features = counts_vectorizer.get_feature_names()"
   ]
  },
  {
   "cell_type": "code",
   "execution_count": 7,
   "metadata": {},
   "outputs": [
    {
     "name": "stdout",
     "output_type": "stream",
     "text": [
      "<class 'numpy.matrix'>\n",
      "(7107, 14666)\n",
      "14666\n",
      "{'Adware', 'Backdoor', 'Virus', 'Spyware', 'Trojan', 'Dropper', 'Worms', 'Downloader'}\n"
     ]
    }
   ],
   "source": [
    "print(type(malware_counts_ngram))\n",
    "print(malware_counts_ngram.shape)\n",
    "print(len(features))\n",
    "print(set(class_labels))"
   ]
  },
  {
   "cell_type": "code",
   "execution_count": null,
   "metadata": {
    "scrolled": true
   },
   "outputs": [],
   "source": [
    "benign_neg_dict = dict()\n",
    "name_list = list()\n",
    "for col_name, col_index in zip(features, range(malware_counts_ngram.shape[1])):\n",
    "    name_list.append(col_name)\n",
    "    col_data = malware_counts_ngram[:, col_index]\n",
    "    trojan = 0\n",
    "    worms = 0\n",
    "    downloader = 0\n",
    "    virus = 0\n",
    "    backdoor = 0\n",
    "    dropper = 0\n",
    "    spyware = 0\n",
    "    adware = 0\n",
    "    num = 0\n",
    "    for i in range(col_data.shape[0]):\n",
    "        if col_data[i] == 1:\n",
    "            num += 1\n",
    "            if class_labels[i] == 'Trojan':\n",
    "                trojan += 1\n",
    "            elif class_labels == 'Worms':\n",
    "                worms += 1\n",
    "            elif class_labels == 'Downloader':\n",
    "                downloader += 1\n",
    "            elif class_labels == 'Virus':\n",
    "                virus += 1\n",
    "            elif class_labels == 'Backdoor':\n",
    "                backdoor += 1\n",
    "            elif class_labels == 'Spyware':\n",
    "                spyware += 1\n",
    "            elif class_labels == 'Dropper':\n",
    "                dropper += 1\n",
    "            elif class_labels == 'Adware':\n",
    "                adware += 1\n",
    "    if trojan == 0:\n",
    "        percent_trojan = 0\n",
    "    else:\n",
    "        percent_trojan = float(trojan / num)\n",
    "    if worms == 0:\n",
    "        percent_worms = 0\n",
    "    else:\n",
    "        percent_worms = float(worms / num)\n",
    "    if downloader == 0:\n",
    "        percent_downloader = 0\n",
    "    else:\n",
    "        percent_downloader = float(downloader / num)  \n",
    "    if virus == 0:\n",
    "        percent_virus = 0\n",
    "    else:\n",
    "        percent_virus = float(virus / num) \n",
    "    if backdoor == 0:\n",
    "        percent_backdoor = 0\n",
    "    else:\n",
    "        percent_backdoor = float(backdoor / num) \n",
    "    if dropper == 0:\n",
    "        percent_dropper = 0\n",
    "    else:\n",
    "        percent_dropper = float(dropper / num) \n",
    "    if spyware == 0:\n",
    "        percent_spyware = 0\n",
    "    else:\n",
    "        percent_spyware = float(spyware / num) \n",
    "    if adware == 0:\n",
    "        percent_adware = 0\n",
    "    else:\n",
    "        percent_adware = float(adware / num) \n",
    "        \n",
    "    term_frequency = num / len(class_labels)\n",
    "    benign_neg_dict[col_name] = [trojan, worms, downloader, virus, backdoor, dropper, spyware, adware,\n",
    "                                percent_trojan, percent_worms, percent_downloader, percent_virus, percent_backdoor,\n",
    "                                percent_dropper, percent_spyware, percent_adware, num, term_frequency]"
   ]
  },
  {
   "cell_type": "code",
   "execution_count": 12,
   "metadata": {},
   "outputs": [],
   "source": [
    "meta_data = pd.DataFrame(benign_neg_dict).T\n",
    "meta_data['Api-Call'] = name_list\n",
    "meta_data.columns = ['trojan', 'worms', 'downloader', 'virus', 'backdoor', 'dropper', 'spyware', 'adware',\n",
    "                                'percent_trojan', 'percent_worms', 'percent_downloader', 'percent_virus', 'percent_backdoor',\n",
    "                                'percent_dropper', 'percent_spyware', 'percent_adware', 'num', 'term_frequency', 'Api-Call']"
   ]
  },
  {
   "cell_type": "code",
   "execution_count": 8,
   "metadata": {},
   "outputs": [],
   "source": [
    "tfidf_transformer = TfidfTransformer()\n",
    "tfidf_api_calls = tfidf_transformer.fit_transform(malware_counts_ngram)"
   ]
  },
  {
   "cell_type": "markdown",
   "metadata": {},
   "source": [
    "tfidfvectorizer for inverse document frequency, and quick way to make the matrix again for classification use."
   ]
  },
  {
   "cell_type": "code",
   "execution_count": 8,
   "metadata": {},
   "outputs": [],
   "source": [
    "tfidf_vectorizer = TfidfVectorizer(ngram_range=(1,10), max_df=.97, min_df=.03)\n",
    "tfidf_api_calls = tfidf_vectorizer.fit_transform(api_calls)"
   ]
  },
  {
   "cell_type": "code",
   "execution_count": null,
   "metadata": {
    "scrolled": true
   },
   "outputs": [],
   "source": [
    "meta_data['idf'] = tfidf_vectorizer.idf_"
   ]
  },
  {
   "cell_type": "code",
   "execution_count": 15,
   "metadata": {},
   "outputs": [],
   "source": [
    "meta_data.to_csv('meta_data_malwareAPI_10gram.csv')"
   ]
  },
  {
   "cell_type": "code",
   "execution_count": null,
   "metadata": {},
   "outputs": [],
   "source": [
    "models = [\n",
    "    RandomForestClassifier(n_estimators=200, max_depth=5, random_state=44),\n",
    "    BernoulliNB(),\n",
    "    MultinomialNB(),\n",
    "    GaussianNB(),\n",
    "    DecisionTreeClassifier(max_depth=10),\n",
    "    AdaBoostClassifier(DecisionTreeClassifier(max_depth=10)),\n",
    "    BaggingClassifier(DecisionTreeClassifier(max_depth=10)),\n",
    "    KNeighborsClassifier(n_neighbors=5),\n",
    "    MLPClassifier(solver='sgd', random_state=44),\n",
    "]\n",
    "\n",
    "meta_name_list = ['total']\n",
    "idfs = [None]\n",
    "name = 'Malware_API_calls'"
   ]
  },
  {
   "cell_type": "code",
   "execution_count": null,
   "metadata": {},
   "outputs": [],
   "source": [
    "for idf in idfs:\n",
    "\n",
    "    if idf == 'total':\n",
    "        meta = meta_data\n",
    "    else:\n",
    "        meta = meta_data.loc[meta_data['idf'] > idf]\n",
    "        \n",
    "    count_vectorizer = CountVectorizer(ngram_range=(1,10), max_df=.97, min_df=.03)\n",
    "    counts_vectors = count_vectorizer.fit_transform(api_calls)\n",
    "    counts_features = count_vectorizer.get_feature_names()\n",
    "    \n",
    "    with open(f'features_of_{name}_{str(idf)}', 'wb') as out_features:\n",
    "        pickle.dump(counts_features, out_features)\n",
    "\n",
    "    tfidf_transformer = TfidfTransformer()\n",
    "    tfidf_vectors = tfidf_transformer.fit_transform(counts_vectors).todense()\n",
    "    if idf == 'total':\n",
    "      meta_data['idf'] = tfidf_transformer.idf_\n",
    "\n",
    "    with open(f'tfidf_vectors_{name}_{str(idf)}.pickle', 'wb') as out_matrix:\n",
    "      pickle.dump(tfidf_vectors, out_matrix)"
   ]
  },
  {
   "cell_type": "code",
   "execution_count": null,
   "metadata": {},
   "outputs": [],
   "source": [
    "dataframe = pd.DataFrame()\n",
    "model_names = []\n",
    "idxs = [[],[],[],[],[]]"
   ]
  },
  {
   "cell_type": "code",
   "execution_count": null,
   "metadata": {},
   "outputs": [],
   "source": [
    "for idf, name_meta in zip(idfs, meta_name_list):\n",
    "    with open(f'tfidf_vectors_{name}_{str(name_meta)}.pickle', 'rb') as in_matrix:\n",
    "        tfidf_vectors = pickle.load(in_matrix)\n",
    "\n",
    "    with open(f'Accuracies_{name}.txt', 'w+') as out_file:\n",
    "        if idf is None:\n",
    "            out_file.write(f'5 Fold Cross Validation Acc for Malware API Calls')\n",
    "            out_file.write(f'\\nThese next models have all vocabulary\\n')\n",
    "            out_file.close()\n",
    "        else:\n",
    "            out_file.write(f'\\nThese next models have idf > {idf}\\n')\n",
    "            out_file.close()\n",
    "\n",
    "    for model in models:\n",
    "        model_name = model.__class__.__name__\n",
    "        accuracies = cross_val_score(model, tfidf_vectors, y=class_labels,\n",
    "                                      scoring='accuracy', cv=5, n_jobs=-1)\n",
    "        with open(f'Accuracies_{name}.txt', 'a+') as out_file:\n",
    "            out_file.write(f'Using data from {name}\\n')\n",
    "            out_file.write(model_name)\n",
    "            out_file.write(f'\\n{accuracies}\\n')\n",
    "            out_file.close()"
   ]
  },
  {
   "cell_type": "markdown",
   "metadata": {},
   "source": [
    "We have a way to run the classifiers now but the features that we are using are bad.\n",
    "Feature selection and extraction process shall now begin."
   ]
  },
  {
   "cell_type": "code",
   "execution_count": 38,
   "metadata": {
    "scrolled": true
   },
   "outputs": [],
   "source": [
    "# DECISION TREE AND LOOK\n",
    "# RANDOM FOREST AND LOOK\n",
    "# MRMR and recursive feature selection using decision tree. "
   ]
  },
  {
   "cell_type": "markdown",
   "metadata": {
    "scrolled": true
   },
   "source": [
    "DT"
   ]
  },
  {
   "cell_type": "code",
   "execution_count": 11,
   "metadata": {},
   "outputs": [
    {
     "ename": "ModuleNotFoundError",
     "evalue": "No module named 'sklearn.tree._classes'",
     "output_type": "error",
     "traceback": [
      "\u001b[1;31m---------------------------------------------------------------------------\u001b[0m",
      "\u001b[1;31mModuleNotFoundError\u001b[0m                       Traceback (most recent call last)",
      "\u001b[1;32m<ipython-input-11-439ec910aa1a>\u001b[0m in \u001b[0;36m<module>\u001b[1;34m\u001b[0m\n\u001b[0;32m      1\u001b[0m \u001b[1;32mwith\u001b[0m \u001b[0mopen\u001b[0m\u001b[1;33m(\u001b[0m\u001b[1;34m'DecisionTreeClassifier_total.pickle'\u001b[0m\u001b[1;33m,\u001b[0m \u001b[1;34m'rb'\u001b[0m\u001b[1;33m)\u001b[0m \u001b[1;32mas\u001b[0m \u001b[0mread_file\u001b[0m\u001b[1;33m:\u001b[0m\u001b[1;33m\u001b[0m\u001b[1;33m\u001b[0m\u001b[0m\n\u001b[1;32m----> 2\u001b[1;33m     \u001b[0mclf\u001b[0m \u001b[1;33m=\u001b[0m \u001b[0mpickle\u001b[0m\u001b[1;33m.\u001b[0m\u001b[0mload\u001b[0m\u001b[1;33m(\u001b[0m\u001b[0mread_file\u001b[0m\u001b[1;33m)\u001b[0m\u001b[1;33m\u001b[0m\u001b[1;33m\u001b[0m\u001b[0m\n\u001b[0m\u001b[0;32m      3\u001b[0m \u001b[1;33m\u001b[0m\u001b[0m\n\u001b[0;32m      4\u001b[0m \u001b[0mplt\u001b[0m\u001b[1;33m.\u001b[0m\u001b[0mfigure\u001b[0m\u001b[1;33m(\u001b[0m\u001b[1;33m)\u001b[0m\u001b[1;33m\u001b[0m\u001b[1;33m\u001b[0m\u001b[0m\n\u001b[0;32m      5\u001b[0m \u001b[0mplot_tree\u001b[0m\u001b[1;33m(\u001b[0m\u001b[0mclf\u001b[0m\u001b[1;33m,\u001b[0m \u001b[0mfilled\u001b[0m\u001b[1;33m=\u001b[0m\u001b[1;32mTrue\u001b[0m\u001b[1;33m)\u001b[0m\u001b[1;33m\u001b[0m\u001b[1;33m\u001b[0m\u001b[0m\n",
      "\u001b[1;31mModuleNotFoundError\u001b[0m: No module named 'sklearn.tree._classes'"
     ]
    }
   ],
   "source": [
    "with open('DecisionTreeClassifier_total.pickle', 'rb') as read_file:\n",
    "    clf = pickle.load(read_file)\n",
    "    \n",
    "plt.figure()\n",
    "plot_tree(clf, filled=True)\n",
    "plt.show()"
   ]
  }
 ],
 "metadata": {
  "kernelspec": {
   "display_name": "Python 3",
   "language": "python",
   "name": "python3"
  },
  "language_info": {
   "codemirror_mode": {
    "name": "ipython",
    "version": 3
   },
   "file_extension": ".py",
   "mimetype": "text/x-python",
   "name": "python",
   "nbconvert_exporter": "python",
   "pygments_lexer": "ipython3",
   "version": "3.7.4"
  }
 },
 "nbformat": 4,
 "nbformat_minor": 2
}
