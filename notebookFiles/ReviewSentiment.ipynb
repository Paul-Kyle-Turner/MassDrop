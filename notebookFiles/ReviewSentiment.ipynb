{
 "cells": [
  {
   "cell_type": "markdown",
   "metadata": {},
   "source": [
    "# Reviews sentiment analysis and metadata creation.\n",
    "\n",
    "Here are the requirements that I used."
   ]
  },
  {
   "cell_type": "code",
   "execution_count": 42,
   "metadata": {},
   "outputs": [],
   "source": [
    "import os\n",
    "import pandas as pd\n",
    "import re\n",
    "import pickle"
   ]
  },
  {
   "cell_type": "code",
   "execution_count": 8,
   "metadata": {
    "scrolled": true
   },
   "outputs": [],
   "source": [
    "import nltk\n",
    "# nltk.download('punkt') # Uncomment this line to download the nltk punkt resource."
   ]
  },
  {
   "cell_type": "code",
   "execution_count": 9,
   "metadata": {},
   "outputs": [],
   "source": [
    "from nltk.tokenize import word_tokenize\n",
    "from nltk.corpus import stopwords\n",
    "from sklearn.feature_extraction.stop_words import ENGLISH_STOP_WORDS\n",
    "# https://www.nltk.org/api/nltk.stem.html\n",
    "# https://tartarus.org/martin/PorterStemmer/\n",
    "from nltk.stem import PorterStemmer\n",
    "from nltk.stem import WordNetLemmatizer\n",
    "\n",
    "from sklearn.feature_extraction.text import TfidfTransformer, CountVectorizer, TfidfVectorizer\n",
    "from sklearn.naive_bayes import GaussianNB, MultinomialNB, BernoulliNB"
   ]
  },
  {
   "cell_type": "code",
   "execution_count": 10,
   "metadata": {
    "scrolled": true
   },
   "outputs": [],
   "source": [
    "# https://nbviewer.jupyter.org/github/bmabey/pyLDAvis/blob/master/notebooks/Gensim%20Newsgroup.ipynb\n",
    "from glob import glob\n",
    "import re\n",
    "import string\n",
    "import funcy as fp\n",
    "from gensim import models\n",
    "from gensim.corpora import Dictionary, MmCorpus\n",
    "import nltk\n",
    "import pandas as pd"
   ]
  },
  {
   "cell_type": "markdown",
   "metadata": {},
   "source": [
    "Change this for your path."
   ]
  },
  {
   "cell_type": "code",
   "execution_count": 11,
   "metadata": {
    "scrolled": false
   },
   "outputs": [
    {
     "name": "stdout",
     "output_type": "stream",
     "text": [
      "F:\\Data\\Films\\ReviewsSentiment\n"
     ]
    }
   ],
   "source": [
    "os.chdir('F:\\Data\\Films\\ReviewsSentiment')\n",
    "print(os.getcwd())"
   ]
  },
  {
   "cell_type": "code",
   "execution_count": 12,
   "metadata": {},
   "outputs": [],
   "source": [
    "sentiment_df = pd.read_csv('IMDB Dataset.csv')"
   ]
  },
  {
   "cell_type": "code",
   "execution_count": 13,
   "metadata": {
    "scrolled": false
   },
   "outputs": [
    {
     "name": "stdout",
     "output_type": "stream",
     "text": [
      "                                              review sentiment\n",
      "0  One of the other reviewers has mentioned that ...  positive\n",
      "1  A wonderful little production. <br /><br />The...  positive\n",
      "2  I thought this was a wonderful way to spend ti...  positive\n",
      "3  Basically there's a family where a little boy ...  negative\n",
      "4  Petter Mattei's \"Love in the Time of Money\" is...  positive\n"
     ]
    }
   ],
   "source": [
    "print(sentiment_df.head())"
   ]
  },
  {
   "cell_type": "markdown",
   "metadata": {},
   "source": [
    "The reviews data itself is not in a good format for getting anything done on it.\n",
    "    I will implement tokenization, stemming, and lemmatization to clean the paragraphs.\n",
    "    NLTK and SKLEARN stopwords sets are used for the stopwords removal.\n",
    "    NLTK tokenizer, PorterStemmer, Lemmatizer"
   ]
  },
  {
   "cell_type": "code",
   "execution_count": 14,
   "metadata": {
    "scrolled": true
   },
   "outputs": [],
   "source": [
    "reviews_raw = sentiment_df['review'].tolist()\n",
    "# print(reviews_raw)"
   ]
  },
  {
   "cell_type": "code",
   "execution_count": 9,
   "metadata": {
    "scrolled": true
   },
   "outputs": [
    {
     "name": "stdout",
     "output_type": "stream",
     "text": [
      "[\"One of the other reviewers has mentioned that after watching just 1 Oz episode you'll be hooked. They are right, as this is exactly what happened with me.<br /><br />The first thing that struck me about Oz was its brutality and unflinching scenes of violence, which set in right from the word GO. Trust me, this is not a show for the faint hearted or timid. This show pulls no punches with regards to drugs, sex or violence. Its is hardcore, in the classic use of the word.<br /><br />It is called OZ as that is the nickname given to the Oswald Maximum Security State Penitentary. It focuses mainly on Emerald City, an experimental section of the prison where all the cells have glass fronts and face inwards, so privacy is not high on the agenda. Em City is home to many..Aryans, Muslims, gangstas, Latinos, Christians, Italians, Irish and more....so scuffles, death stares, dodgy dealings and shady agreements are never far away.<br /><br />I would say the main appeal of the show is due to the fact that it goes where other shows wouldn't dare. Forget pretty pictures painted for mainstream audiences, forget charm, forget romance...OZ doesn't mess around. The first episode I ever saw struck me as so nasty it was surreal, I couldn't say I was ready for it, but as I watched more, I developed a taste for Oz, and got accustomed to the high levels of graphic violence. Not just violence, but injustice (crooked guards who'll be sold out for a nickel, inmates who'll kill on order and get away with it, well mannered, middle class inmates being turned into prison bitches due to their lack of street skills or prison experience) Watching Oz, you may become comfortable with what is uncomfortable viewing....thats if you can get in touch with your darker side.\"]\n"
     ]
    }
   ],
   "source": [
    "print(reviews_raw[:1])"
   ]
  },
  {
   "cell_type": "code",
   "execution_count": 15,
   "metadata": {},
   "outputs": [],
   "source": [
    "stop_words1 = set(stopwords.words('english'))\n",
    "# print(stop_words1)\n",
    "stop_words2 = set(ENGLISH_STOP_WORDS)\n",
    "# print(stop_words2)\n",
    "stop_words3 = set('it')"
   ]
  },
  {
   "cell_type": "code",
   "execution_count": null,
   "metadata": {
    "scrolled": false
   },
   "outputs": [],
   "source": [
    "print(stop_words1)\n",
    "print(stop_words2)\n",
    "print(stop_words3)"
   ]
  },
  {
   "cell_type": "markdown",
   "metadata": {},
   "source": [
    "These both have their ups and downs\n",
    "    splitting on space get's things like \"you'll\" where the nltk tokens will seperate on the \" ' \"\n",
    "    splitting on space however will miss things like \"word....banana\" or grammatical mistakes.\n",
    "    Both will be used, test the difference "
   ]
  },
  {
   "cell_type": "code",
   "execution_count": 17,
   "metadata": {},
   "outputs": [],
   "source": [
    "stemmer = PorterStemmer()\n",
    "lemmatizer = WordNetLemmatizer()\n",
    "def remove_stop_words(item, space=False, join=True):\n",
    "    if space:\n",
    "        # space split\n",
    "        tokenized_item = item.split(' ')\n",
    "    else:\n",
    "        # Use of the nltk tokenizer\n",
    "        tokenized_item = word_tokenize(item)\n",
    "    tokenized_stopped_item = []\n",
    "    for word, i in zip(tokenized_item, range(len(tokenized_item))):\n",
    "        if word.lower() in stop_words1 or word.lower() in stop_words2 or word.lower() in stop_words3:\n",
    "            pass\n",
    "        else:\n",
    "            tokenized_stopped_item.append(lemmatizer.lemmatize(stemmer.stem(word.lower())))\n",
    "    if join:\n",
    "        return \" \".join(tokenized_stopped_item)\n",
    "    return tokenized_stopped_item"
   ]
  },
  {
   "cell_type": "code",
   "execution_count": 18,
   "metadata": {},
   "outputs": [],
   "source": [
    "def cleaning_films(reviews_raw):\n",
    "    space_changed_list = []\n",
    "    nltk_changed_list = []\n",
    "    for item, i in zip(reviews_raw, range(len(reviews_raw))):\n",
    "        item_removed = re.sub('<br />', '', item)\n",
    "        space_changed_list.append(item_removed)\n",
    "        nltk_changed_list.append(item_removed)\n",
    "        space_changed_list[i] = remove_stop_words(space_changed_list[i], space=True)\n",
    "        nltk_changed_list[i] = remove_stop_words(nltk_changed_list[i], space=False)\n",
    "    return space_changed_list, nltk_changed_list"
   ]
  },
  {
   "cell_type": "code",
   "execution_count": 19,
   "metadata": {
    "scrolled": true
   },
   "outputs": [],
   "source": [
    "cleaned_reviews_space, cleaned_reviews_nltk = cleaning_films(reviews_raw)"
   ]
  },
  {
   "cell_type": "code",
   "execution_count": null,
   "metadata": {
    "scrolled": true
   },
   "outputs": [],
   "source": [
    "pickle.dump(cleaned_reviews_space, open('cleaned_reviews_space.pickle', 'wb'))\n",
    "pickle.dump(cleaned_reviews_nltk, open('cleaned_reviews_nltk.pickle', 'wb'))"
   ]
  },
  {
   "cell_type": "code",
   "execution_count": 57,
   "metadata": {},
   "outputs": [],
   "source": [
    "cleaned_reviews_space = pickle.load(open('cleaned_reviews_space.pickle', 'rb'))\n",
    "cleaned_reviews_nltk = pickle.load(open('cleaned_reviews_nltk.pickle', 'rb'))"
   ]
  },
  {
   "cell_type": "code",
   "execution_count": null,
   "metadata": {
    "scrolled": true
   },
   "outputs": [],
   "source": [
    "print(cleaned_reviews_space[:1])"
   ]
  },
  {
   "cell_type": "code",
   "execution_count": null,
   "metadata": {
    "scrolled": false
   },
   "outputs": [],
   "source": [
    "print(cleaned_reviews_nltk[:1])"
   ]
  },
  {
   "cell_type": "markdown",
   "metadata": {},
   "source": [
    "The nltk set:"
   ]
  },
  {
   "cell_type": "code",
   "execution_count": 21,
   "metadata": {},
   "outputs": [],
   "source": [
    "# Stop words are being removed before this\n",
    "# 2-grams perhaps\n",
    "count_vectorizer_nltk = CountVectorizer(ngram_range=(1, 3), max_df=.91, min_df=.005)\n",
    "tfidf_transformer_nltk = TfidfTransformer()"
   ]
  },
  {
   "cell_type": "code",
   "execution_count": 22,
   "metadata": {},
   "outputs": [],
   "source": [
    "counts_vectors_nltk = count_vectorizer_nltk.fit_transform(cleaned_reviews_nltk)\n",
    "counts_features_nltk = count_vectorizer_nltk.get_feature_names()"
   ]
  },
  {
   "cell_type": "markdown",
   "metadata": {},
   "source": [
    "This is nice to have as a pandas dataframe for one of the functions i had created a few weeks ago for this kind of data."
   ]
  },
  {
   "cell_type": "code",
   "execution_count": 23,
   "metadata": {},
   "outputs": [],
   "source": [
    "reviews_count_df = pd.DataFrame(counts_vectors_nltk.todense(), columns=counts_features_nltk)\n",
    "class_labels = sentiment_df['sentiment'].tolist()"
   ]
  },
  {
   "cell_type": "markdown",
   "metadata": {},
   "source": [
    "These should give (hopefully) a good classifier once it's in tf-idf vectors.\n",
    "\n",
    "For now tho we can make some meta data off the counts of each of our feature words.\n",
    "    Just a note the next function takes a bit to run on the settings from above, for simplification we can run this one time and save the dataframe that we used."
   ]
  },
  {
   "cell_type": "code",
   "execution_count": null,
   "metadata": {},
   "outputs": [],
   "source": [
    "# This function was created 2/17/2020 in android malware dectection, some edits\n",
    "# names have been changed for more clear reference to this materiial\n",
    "review_dict = dict()\n",
    "feature_list = list()\n",
    "for col_name, col_data in reviews_count_df.loc[:, 0:reviews_count_df.shape[1]].iteritems():\n",
    "    feature_list.append(col_name)\n",
    "    positive = 0\n",
    "    negative = 0\n",
    "    num = 0\n",
    "    for i in range(len(col_data)):\n",
    "        if col_data[i] == 1:\n",
    "            num += 1\n",
    "            if class_labels[i] == 'positive':\n",
    "                positive += 1\n",
    "            else:\n",
    "                negative += 1\n",
    "    if negative == 0:\n",
    "        positive_percent = 1\n",
    "    else:\n",
    "        positive_percent = float(positive / num)\n",
    "    negative_percent = 1 - positive_percent\n",
    "    df = num / len(class_labels)\n",
    "    review_dict[col_name] = [positive, negative, positive_percent, negative_percent, num, df]"
   ]
  },
  {
   "cell_type": "markdown",
   "metadata": {},
   "source": [
    "Transformation of the count matrix into the tfidf matrix"
   ]
  },
  {
   "cell_type": "code",
   "execution_count": null,
   "metadata": {},
   "outputs": [],
   "source": [
    "tfidf_transformer = TfidfTransformer()\n",
    "reviews_tfidf = tfidf_transformer.fit_transform(counts_vectors_nltk)"
   ]
  },
  {
   "cell_type": "code",
   "execution_count": 53,
   "metadata": {},
   "outputs": [
    {
     "name": "stdout",
     "output_type": "stream",
     "text": [
      "[5.70170109 3.00814604 5.18779651 ... 5.44307134 5.22128926 6.25527788]\n",
      "<class 'numpy.ndarray'>\n"
     ]
    }
   ],
   "source": [
    "print(tfidf_transformer.idf_)\n",
    "print(type(tfidf_transformer.idf_))"
   ]
  },
  {
   "cell_type": "code",
   "execution_count": 19,
   "metadata": {},
   "outputs": [],
   "source": [
    "meta_data = pd.DataFrame(review_dict).T\n",
    "meta_data['idf'] = tfidf_transformer.idf_"
   ]
  },
  {
   "cell_type": "code",
   "execution_count": 20,
   "metadata": {
    "scrolled": true
   },
   "outputs": [],
   "source": [
    "meta_data.columns = ['positive', 'negative', 'positive_percent', 'negative_percent', 'total_calls', 'term_frequency', 'idf']"
   ]
  },
  {
   "cell_type": "code",
   "execution_count": 29,
   "metadata": {
    "scrolled": true
   },
   "outputs": [],
   "source": [
    "meta_data = pd.read_csv('reviews_col_meta.csv')"
   ]
  },
  {
   "cell_type": "code",
   "execution_count": 30,
   "metadata": {},
   "outputs": [],
   "source": [
    "meta_data_3 = meta_data.loc[meta_data['idf'] > 3.3]\n",
    "meta_data_4 = meta_data.loc[meta_data['idf'] > 4]"
   ]
  },
  {
   "cell_type": "code",
   "execution_count": 31,
   "metadata": {},
   "outputs": [],
   "source": [
    "meta_data.to_csv('reviews_col_meta.csv')\n",
    "meta_data_3.to_csv('reviews_col_meta_3.csv')\n",
    "meta_data_4.to_csv('reviews_col_meta_4.csv')"
   ]
  },
  {
   "cell_type": "markdown",
   "metadata": {},
   "source": [
    "You should save this to github.\n",
    "\n",
    "This is not the end of the feature selection process.\n",
    "\n",
    "Go to Tab document for some justifying graphs.\n",
    "\n",
    "In the tab file we see that above a 3.3 is a good idf that we can use to get some classifications, 4 was also created to see what could come out of it.  \n",
    "\n",
    "I am going to create a list with the three vocabularies in a list so that we can use each of them to create models.\n",
    "Just a note I am going to make a save for the vocabularies to save on some space."
   ]
  },
  {
   "cell_type": "code",
   "execution_count": null,
   "metadata": {
    "scrolled": true
   },
   "outputs": [],
   "source": [
    "vocabularies = [meta_data['name'], meta_data_3['name'], meta_data_4['name']]"
   ]
  },
  {
   "cell_type": "code",
   "execution_count": null,
   "metadata": {},
   "outputs": [],
   "source": [
    "pickle.dump(vocabularies, open('vocabularies.pickle', 'wb+'))"
   ]
  },
  {
   "cell_type": "code",
   "execution_count": null,
   "metadata": {},
   "outputs": [],
   "source": [
    "print(os.getcwd())\n",
    "vocabularies = pickle.load(open('vocabularies.pickle', 'rb'))"
   ]
  },
  {
   "cell_type": "code",
   "execution_count": 67,
   "metadata": {},
   "outputs": [
    {
     "name": "stdout",
     "output_type": "stream",
     "text": [
      "(3073,)\n",
      "(2972,)\n",
      "(2759,)\n"
     ]
    }
   ],
   "source": [
    "for item in vocabularies:\n",
    "    print(item.shape)"
   ]
  },
  {
   "cell_type": "markdown",
   "metadata": {},
   "source": [
    "Now that we have some of the corpuses created we can create some topic models that use the corpus.\n",
    "    Don't use pyLDAvis SKlearn.  it doesn't work.\n",
    "    I will use gensim."
   ]
  },
  {
   "cell_type": "code",
   "execution_count": null,
   "metadata": {},
   "outputs": [],
   "source": [
    "print(lda_tfidf.components_)"
   ]
  },
  {
   "cell_type": "code",
   "execution_count": 64,
   "metadata": {},
   "outputs": [],
   "source": []
  },
  {
   "cell_type": "code",
   "execution_count": null,
   "metadata": {
    "scrolled": true
   },
   "outputs": [],
   "source": []
  }
 ],
 "metadata": {
  "kernelspec": {
   "display_name": "Python 3",
   "language": "python",
   "name": "python3"
  },
  "language_info": {
   "codemirror_mode": {
    "name": "ipython",
    "version": 3
   },
   "file_extension": ".py",
   "mimetype": "text/x-python",
   "name": "python",
   "nbconvert_exporter": "python",
   "pygments_lexer": "ipython3",
   "version": "3.7.4"
  }
 },
 "nbformat": 4,
 "nbformat_minor": 2
}
