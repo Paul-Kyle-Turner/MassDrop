{
  "nbformat": 4,
  "nbformat_minor": 0,
  "metadata": {
    "colab": {
      "name": "malware2.ipynb",
      "provenance": []
    },
    "kernelspec": {
      "name": "python3",
      "display_name": "Python 3"
    }
  },
  "cells": [
    {
      "cell_type": "code",
      "metadata": {
        "id": "ZjooeFy7DcBp",
        "colab_type": "code",
        "colab": {}
      },
      "source": [
        "import os\n",
        "import pandas as pd\n",
        "import re\n",
        "import pickle\n",
        "from joblib import dump, load\n",
        "import nltk\n",
        "# nltk.download('punkt') # Uncomment this line to download the nltk punkt resource.\n",
        "from statistics import mean\n",
        "\n",
        "from sklearn.feature_extraction.text import TfidfTransformer, CountVectorizer\n",
        "from sklearn.model_selection import cross_val_score\n",
        "from sklearn.neighbors import KNeighborsClassifier\n",
        "from sklearn.naive_bayes import GaussianNB, MultinomialNB, BernoulliNB\n",
        "from sklearn.tree import DecisionTreeClassifier\n",
        "from sklearn.ensemble import RandomForestClassifier, AdaBoostClassifier, BaggingClassifier\n",
        "from sklearn.neural_network import MLPClassifier\n",
        "from sklearn.multiclass import OneVsRestClassifier\n",
        "from sklearn.svm import SVC\n",
        "from sklearn.model_selection import train_test_split\n",
        "from sklearn.metrics import classification_report\n",
        "from sklearn.metrics import f1_score\n",
        "from sklearn.metrics import auc\n",
        "import pprint\n",
        "\n",
        "os.chdir('drive/My Drive/malware')\n",
        "#print(os.getcwd())\n",
        "\n",
        "class_labels = []\n",
        "with open('labels.csv', 'r') as data_labels:\n",
        "    for line in data_labels.readlines():\n",
        "        class_labels.append(line.replace('\\n', ''))\n",
        "\n",
        "tfidf_api_calls = load('tfidf_vectors.joblib')\n",
        "\n",
        "x_train, x_test, y_train, y_test = train_test_split(tfidf_api_calls,\n",
        "                                                    class_labels,\n",
        "                                                    test_size=.20,\n",
        "                                                    random_state = 44)\n",
        "\n",
        "models = [\n",
        "    RandomForestClassifier(n_estimators=200, max_depth=5, random_state=44),\n",
        "    BernoulliNB(),\n",
        "    MultinomialNB(),\n",
        "    GaussianNB(),\n",
        "    DecisionTreeClassifier(max_depth=10),\n",
        "    AdaBoostClassifier(DecisionTreeClassifier(max_depth=10)),\n",
        "    BaggingClassifier(DecisionTreeClassifier(max_depth=10)),\n",
        "    KNeighborsClassifier(n_neighbors=5),\n",
        "    MLPClassifier(solver='sgd', random_state=44)\n",
        "]\n",
        "set_class_labels = list(set(class_labels))\n",
        "meta_name_list = ['total']\n",
        "idf = None\n",
        "name = 'Malware_API_calls'\n",
        "\n",
        "from sklearn.metrics import plot_confusion_matrix, plot_precision_recall_curve, plot_roc_curve\n",
        "from sklearn.metrics import precision_recall_curve\n",
        "import matplotlib.pyplot as plt\n",
        "# https://scikit-learn.org/stable/auto_examples/model_selection/plot_confusion_matrix.html\n",
        "titles = [(\"CM_Normalized \", 'true'), (\"CM\", None)]\n",
        "import csv\n",
        "\n",
        "x_test = x_test.todense()\n",
        "\n",
        "def not_class_label(class_label, class_label_list):\n",
        "  return [label if label == class_label else 0 for label in class_label_list]"
      ],
      "execution_count": 0,
      "outputs": []
    },
    {
      "cell_type": "code",
      "metadata": {
        "id": "5-30_pZeDjht",
        "colab_type": "code",
        "colab": {}
      },
      "source": [
        "from google.colab import drive\n",
        "drive.mount('/content/drive')"
      ],
      "execution_count": 0,
      "outputs": []
    },
    {
      "cell_type": "markdown",
      "metadata": {
        "id": "B51WVMLZgDYp",
        "colab_type": "text"
      },
      "source": [
        ""
      ]
    },
    {
      "cell_type": "code",
      "metadata": {
        "id": "UHoT3ZseDxBM",
        "colab_type": "code",
        "colab": {}
      },
      "source": [
        "for class_num in range(len(set_class_labels)):\n",
        "\n",
        "  ax = None\n",
        "\n",
        "  for model in models:\n",
        "    model_name = model.__class__.__name__\n",
        "\n",
        "    model_t = load(model_name + '_' + set_class_labels[class_num] + '.joblib')\n",
        "\n",
        "    disp = plot_roc_curve(model_t, x_test, y_test,\n",
        "                          name = model_name + '_' + set_class_labels[class_num],\n",
        "                          ax = ax)\n",
        "    ax = plt.gca()\n",
        "\n",
        "  plt.legend(fontsize = 'x-small')\n",
        "  plt.savefig('ROC/labels_models_t/' + set_class_labels[class_num] + '_roc.png')\n",
        "  plt.close()\n",
        "  print(class_num)"
      ],
      "execution_count": 0,
      "outputs": []
    },
    {
      "cell_type": "markdown",
      "metadata": {
        "id": "CR4x8sacgCNW",
        "colab_type": "text"
      },
      "source": [
        ""
      ]
    },
    {
      "cell_type": "code",
      "metadata": {
        "id": "qj-mT4XEf-ly",
        "colab_type": "code",
        "outputId": "e270f434-69f5-4e09-87fb-dc316c170107",
        "colab": {
          "base_uri": "https://localhost:8080/",
          "height": 153
        }
      },
      "source": [
        "for class_num in range(len(set_class_labels)):\n",
        "\n",
        "  ax = None \n",
        "\n",
        "  for model in models:\n",
        "    model_name = model.__class__.__name__\n",
        "\n",
        "    model_t = load(model_name + '_' + set_class_labels[class_num] + '.joblib')\n",
        "\n",
        "    temp_labels = not_class_label(set_class_labels[class_num], y_train)\n",
        "    temp_y_test = not_class_label(set_class_labels[class_num], y_test)\n",
        "\n",
        "    lin = plot_precision_recall_curve(model_t, x_test, temp_y_test,\n",
        "                          name = model_name + '_' + set_class_labels[class_num],\n",
        "                          ax = ax)\n",
        "    ax = plt.gca()\n",
        "\n",
        "  plt.legend(fontsize = 'xx-small')\n",
        "  plt.savefig('PRCurve/labels_models/' + set_class_labels[class_num] + '_pr.png')\n",
        "  plt.close()\n",
        "  print(class_num)"
      ],
      "execution_count": 0,
      "outputs": [
        {
          "output_type": "stream",
          "text": [
            "0\n",
            "1\n",
            "2\n",
            "3\n",
            "4\n",
            "5\n",
            "6\n",
            "7\n"
          ],
          "name": "stdout"
        }
      ]
    },
    {
      "cell_type": "code",
      "metadata": {
        "id": "m3l4APwnf_xR",
        "colab_type": "code",
        "outputId": "914290f0-0a65-4fb2-b65f-c3a1f99e3b23",
        "colab": {
          "base_uri": "https://localhost:8080/",
          "height": 1000
        }
      },
      "source": [
        "for model in models:\n",
        "  model_name = model.__class__.__name__\n",
        "\n",
        "  ax = None\n",
        "\n",
        "  for class_num in range(len(set_class_labels)):\n",
        "    model_t = load(model_name + '_' + set_class_labels[class_num] + '.joblib')\n",
        "\n",
        "    temp_labels = not_class_label(set_class_labels[class_num], y_train)\n",
        "    temp_y_test = not_class_label(set_class_labels[class_num], y_test)\n",
        "\n",
        "    lin = plot_precision_recall_curve(model_t, x_test, temp_y_test,\n",
        "                          name = model_name + '_' + set_class_labels[class_num],\n",
        "                          ax = ax)\n",
        "    ax = plt.gca()\n",
        "\n",
        "  plt.legend(fontsize = 'xx-small')\n",
        "  plt.savefig('PRCurve/models_labels/' + model_name + '_pr.png')\n",
        "  plt.close()\n",
        "  print(model)"
      ],
      "execution_count": 0,
      "outputs": [
        {
          "output_type": "stream",
          "text": [
            "RandomForestClassifier(bootstrap=True, ccp_alpha=0.0, class_weight=None,\n",
            "                       criterion='gini', max_depth=5, max_features='auto',\n",
            "                       max_leaf_nodes=None, max_samples=None,\n",
            "                       min_impurity_decrease=0.0, min_impurity_split=None,\n",
            "                       min_samples_leaf=1, min_samples_split=2,\n",
            "                       min_weight_fraction_leaf=0.0, n_estimators=200,\n",
            "                       n_jobs=None, oob_score=False, random_state=44, verbose=0,\n",
            "                       warm_start=False)\n",
            "BernoulliNB(alpha=1.0, binarize=0.0, class_prior=None, fit_prior=True)\n",
            "MultinomialNB(alpha=1.0, class_prior=None, fit_prior=True)\n",
            "GaussianNB(priors=None, var_smoothing=1e-09)\n",
            "DecisionTreeClassifier(ccp_alpha=0.0, class_weight=None, criterion='gini',\n",
            "                       max_depth=10, max_features=None, max_leaf_nodes=None,\n",
            "                       min_impurity_decrease=0.0, min_impurity_split=None,\n",
            "                       min_samples_leaf=1, min_samples_split=2,\n",
            "                       min_weight_fraction_leaf=0.0, presort='deprecated',\n",
            "                       random_state=None, splitter='best')\n",
            "AdaBoostClassifier(algorithm='SAMME.R',\n",
            "                   base_estimator=DecisionTreeClassifier(ccp_alpha=0.0,\n",
            "                                                         class_weight=None,\n",
            "                                                         criterion='gini',\n",
            "                                                         max_depth=10,\n",
            "                                                         max_features=None,\n",
            "                                                         max_leaf_nodes=None,\n",
            "                                                         min_impurity_decrease=0.0,\n",
            "                                                         min_impurity_split=None,\n",
            "                                                         min_samples_leaf=1,\n",
            "                                                         min_samples_split=2,\n",
            "                                                         min_weight_fraction_leaf=0.0,\n",
            "                                                         presort='deprecated',\n",
            "                                                         random_state=None,\n",
            "                                                         splitter='best'),\n",
            "                   learning_rate=1.0, n_estimators=50, random_state=None)\n",
            "BaggingClassifier(base_estimator=DecisionTreeClassifier(ccp_alpha=0.0,\n",
            "                                                        class_weight=None,\n",
            "                                                        criterion='gini',\n",
            "                                                        max_depth=10,\n",
            "                                                        max_features=None,\n",
            "                                                        max_leaf_nodes=None,\n",
            "                                                        min_impurity_decrease=0.0,\n",
            "                                                        min_impurity_split=None,\n",
            "                                                        min_samples_leaf=1,\n",
            "                                                        min_samples_split=2,\n",
            "                                                        min_weight_fraction_leaf=0.0,\n",
            "                                                        presort='deprecated',\n",
            "                                                        random_state=None,\n",
            "                                                        splitter='best'),\n",
            "                  bootstrap=True, bootstrap_features=False, max_features=1.0,\n",
            "                  max_samples=1.0, n_estimators=10, n_jobs=None,\n",
            "                  oob_score=False, random_state=None, verbose=0,\n",
            "                  warm_start=False)\n",
            "KNeighborsClassifier(algorithm='auto', leaf_size=30, metric='minkowski',\n",
            "                     metric_params=None, n_jobs=None, n_neighbors=5, p=2,\n",
            "                     weights='uniform')\n",
            "MLPClassifier(activation='relu', alpha=0.0001, batch_size='auto', beta_1=0.9,\n",
            "              beta_2=0.999, early_stopping=False, epsilon=1e-08,\n",
            "              hidden_layer_sizes=(100,), learning_rate='constant',\n",
            "              learning_rate_init=0.001, max_fun=15000, max_iter=200,\n",
            "              momentum=0.9, n_iter_no_change=10, nesterovs_momentum=True,\n",
            "              power_t=0.5, random_state=44, shuffle=True, solver='sgd',\n",
            "              tol=0.0001, validation_fraction=0.1, verbose=False,\n",
            "              warm_start=False)\n"
          ],
          "name": "stdout"
        }
      ]
    }
  ]
}