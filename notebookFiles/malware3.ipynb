{
  "nbformat": 4,
  "nbformat_minor": 0,
  "metadata": {
    "colab": {
      "name": "malware3.ipynb",
      "provenance": []
    },
    "kernelspec": {
      "name": "python3",
      "display_name": "Python 3"
    }
  },
  "cells": [
    {
      "cell_type": "code",
      "metadata": {
        "id": "7isjkd8PFdNR",
        "colab_type": "code",
        "colab": {}
      },
      "source": [
        "from google.colab import drive\n",
        "drive.mount('/content/drive')"
      ],
      "execution_count": 0,
      "outputs": []
    },
    {
      "cell_type": "code",
      "metadata": {
        "id": "GE1nPGJ9IEO1",
        "colab_type": "code",
        "colab": {}
      },
      "source": [
        "import os\n",
        "import pandas as pd\n",
        "import re\n",
        "import pickle\n",
        "from joblib import dump, load\n",
        "import nltk\n",
        "# nltk.download('punkt') # Uncomment this line to download the nltk punkt resource.\n",
        "from statistics import mean\n",
        "\n",
        "from sklearn.feature_extraction.text import TfidfTransformer, CountVectorizer\n",
        "from sklearn.model_selection import cross_val_score\n",
        "from sklearn.neighbors import KNeighborsClassifier\n",
        "from sklearn.naive_bayes import GaussianNB, MultinomialNB, BernoulliNB\n",
        "from sklearn.tree import DecisionTreeClassifier\n",
        "from sklearn.ensemble import RandomForestClassifier, AdaBoostClassifier, BaggingClassifier\n",
        "from sklearn.neural_network import MLPClassifier\n",
        "from sklearn.multiclass import OneVsRestClassifier\n",
        "from sklearn.svm import SVC\n",
        "from sklearn.model_selection import train_test_split\n",
        "from sklearn.metrics import classification_report\n",
        "import pprint\n",
        "\n",
        "os.chdir('drive/My Drive/malware')\n",
        "#print(os.getcwd())\n",
        "\n",
        "class_labels = []\n",
        "with open('labels.csv', 'r') as data_labels:\n",
        "    for line in data_labels.readlines():\n",
        "        class_labels.append(line.replace('\\n', ''))\n",
        "\n",
        "tfidf_api_calls = load('tfidf_vectors.joblib')\n",
        "\n",
        "x_train, x_test, y_train, y_test = train_test_split(tfidf_api_calls,\n",
        "                                                    class_labels,\n",
        "                                                    test_size=.20,\n",
        "                                                    random_state = 44)\n",
        "\n",
        "models = [\n",
        "    RandomForestClassifier(n_estimators=200, max_depth=5, random_state=44),\n",
        "    BernoulliNB(),\n",
        "    MultinomialNB(),\n",
        "    GaussianNB(),\n",
        "    DecisionTreeClassifier(max_depth=10),\n",
        "    AdaBoostClassifier(DecisionTreeClassifier(max_depth=10)),\n",
        "    BaggingClassifier(DecisionTreeClassifier(max_depth=10)),\n",
        "    KNeighborsClassifier(n_neighbors=5),\n",
        "    MLPClassifier(solver='sgd', random_state=44)\n",
        "]\n",
        "set_class_labels = list(set(class_labels))\n",
        "meta_name_list = ['total']\n",
        "idf = None\n",
        "name = 'Malware_API_calls'\n",
        "\n",
        "from sklearn.metrics import plot_confusion_matrix, plot_precision_recall_curve, plot_roc_curve\n",
        "import matplotlib.pyplot as plt\n",
        "# https://scikit-learn.org/stable/auto_examples/model_selection/plot_confusion_matrix.html\n",
        "titles = [(\"CM_Normalized \", 'true'), (\"CM\", None)]\n",
        "import csv\n",
        "\n",
        "x_test = x_test.todense()"
      ],
      "execution_count": 0,
      "outputs": []
    }
  ]
}