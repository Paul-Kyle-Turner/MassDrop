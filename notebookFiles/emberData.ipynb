{
  "nbformat": 4,
  "nbformat_minor": 0,
  "metadata": {
    "colab": {
      "name": "emberData.ipynb",
      "provenance": []
    },
    "kernelspec": {
      "name": "python3",
      "display_name": "Python 3"
    }
  },
  "cells": [
    {
      "cell_type": "code",
      "metadata": {
        "id": "bjvqCjw6VCIE",
        "colab_type": "code",
        "colab": {}
      },
      "source": [
        "import os\n",
        "import pandas as pd\n",
        "import re\n",
        "import pickle\n",
        "from joblib import dump, load"
      ],
      "execution_count": 0,
      "outputs": []
    },
    {
      "cell_type": "code",
      "metadata": {
        "id": "NM-LhIB7VNtH",
        "colab_type": "code",
        "colab": {}
      },
      "source": [
        "from statistics import mean\n",
        "\n",
        "from sklearn.feature_extraction.text import TfidfTransformer, CountVectorizer\n",
        "from sklearn.model_selection import cross_val_score\n",
        "from sklearn.neighbors import KNeighborsClassifier\n",
        "from sklearn.naive_bayes import GaussianNB, MultinomialNB, BernoulliNB\n",
        "from sklearn.tree import DecisionTreeClassifier\n",
        "from sklearn.ensemble import RandomForestClassifier, AdaBoostClassifier, BaggingClassifier\n",
        "from sklearn.neural_network import MLPClassifier\n",
        "from sklearn.multiclass import OneVsRestClassifier\n",
        "from sklearn.svm import SVC\n",
        "from sklearn.model_selection import train_test_split\n",
        "from sklearn.metrics import classification_report\n",
        "import pprint"
      ],
      "execution_count": 0,
      "outputs": []
    },
    {
      "cell_type": "code",
      "metadata": {
        "id": "Jsz179KVVPRu",
        "colab_type": "code",
        "colab": {}
      },
      "source": [
        "from google.colab import drive\n",
        "drive.mount('/content/drive')"
      ],
      "execution_count": 0,
      "outputs": []
    },
    {
      "cell_type": "code",
      "metadata": {
        "id": "uY2kMfKbVRr3",
        "colab_type": "code",
        "colab": {}
      },
      "source": [
        "os.chdir('drive/My Drive/ember')\n",
        "print(os.getcwd())"
      ],
      "execution_count": 0,
      "outputs": []
    },
    {
      "cell_type": "code",
      "metadata": {
        "id": "uoWgP02cVaLf",
        "colab_type": "code",
        "colab": {}
      },
      "source": [
        "with open('labelsAndDLLs.csv', 'r') as original_data:\n",
        "    api_calls = original_data.readlines()"
      ],
      "execution_count": 0,
      "outputs": []
    },
    {
      "cell_type": "code",
      "metadata": {
        "id": "YLknPkcIXITn",
        "colab_type": "code",
        "colab": {}
      },
      "source": [
        "class_labels = []\n",
        "temp_calls = []\n",
        "for call in api_calls:\n",
        "  temp_split = call.split(',', 1)\n",
        "  if len(temp_split) > 1:\n",
        "    class_labels.append(re.sub(r'\\s','',temp_split[0]))\n",
        "    temp_calls.append(re.sub(r',', ' ', re.sub(r'\\s', '', temp_split[1])))"
      ],
      "execution_count": 0,
      "outputs": []
    },
    {
      "cell_type": "code",
      "metadata": {
        "id": "v8P3yvSSgrrG",
        "colab_type": "code",
        "colab": {}
      },
      "source": [
        "api_calls = temp_calls\n",
        "del temp_calls"
      ],
      "execution_count": 0,
      "outputs": []
    },
    {
      "cell_type": "code",
      "metadata": {
        "id": "k-IwUFk7VT-f",
        "colab_type": "code",
        "colab": {}
      },
      "source": [
        "# ngrams must be set to 1 since there is no phrases of DLL files\n",
        "counts_vectorizer = CountVectorizer(ngram_range=(1,1), max_df=.999, min_df=.001)\n",
        "malware_counts_ngram = counts_vectorizer.fit_transform(api_calls).todense()"
      ],
      "execution_count": 0,
      "outputs": []
    },
    {
      "cell_type": "code",
      "metadata": {
        "id": "CCkAeOlyjhig",
        "colab_type": "code",
        "colab": {}
      },
      "source": [
        "features = counts_vectorizer.get_feature_names()"
      ],
      "execution_count": 0,
      "outputs": []
    },
    {
      "cell_type": "code",
      "metadata": {
        "id": "nAvWHXQcjjg1",
        "colab_type": "code",
        "outputId": "feba269d-4fe3-4ead-d487-4b702291880b",
        "colab": {
          "base_uri": "https://localhost:8080/",
          "height": 85
        }
      },
      "source": [
        "print(type(malware_counts_ngram))\n",
        "print(malware_counts_ngram.shape)\n",
        "print(len(features))\n",
        "print(set(class_labels))"
      ],
      "execution_count": 0,
      "outputs": [
        {
          "output_type": "stream",
          "text": [
            "<class 'numpy.matrix'>\n",
            "(709465, 203)\n",
            "203\n",
            "{'1', '-1', '0'}\n"
          ],
          "name": "stdout"
        }
      ]
    },
    {
      "cell_type": "code",
      "metadata": {
        "id": "3Mz18zucjml1",
        "colab_type": "code",
        "colab": {}
      },
      "source": [
        "tfidf_transformer = TfidfTransformer()\n",
        "tfidf_api_calls = tfidf_transformer.fit_transform(malware_counts_ngram)"
      ],
      "execution_count": 0,
      "outputs": []
    },
    {
      "cell_type": "code",
      "metadata": {
        "id": "DXVVX-llj6_m",
        "colab_type": "code",
        "colab": {}
      },
      "source": [
        ""
      ],
      "execution_count": 0,
      "outputs": []
    }
  ]
}